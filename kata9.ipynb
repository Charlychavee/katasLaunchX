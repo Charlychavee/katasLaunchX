{
 "cells": [
  {
   "cell_type": "markdown",
   "metadata": {},
   "source": [
    "# Ejercicio: Uso de funciones en Python\n",
    "\n",
    "## Ejercicio 1: Trabajar con argumentos en funciones\n",
    "\n",
    "Los argumentos requeridos en las funciones se utilizan cuando las funciones necesitan que esos argumentos funcionen correctamente. En este ejercicio, construirás un informe de combustible que requiere información de varias ubicaciones de combustible en todo el cohete.\n",
    "\n",
    "> TIP Dedica unos minutos para tratar de encontrar una solución. Luego desplázate hacia abajo hasta la parte inferior para ver si has logrado compilar el programa de acuerdo con las especificaciones\n",
    "\n",
    "Comienza por crear una función que necesite tres lecturas de combustible y devuelva un informe:"
   ]
  },
  {
   "cell_type": "code",
   "execution_count": 7,
   "metadata": {},
   "outputs": [],
   "source": [
    "# Función para leer 3 tanques de combustible y muestre el promedio\n",
    "def readtnaks(tank1, tank2, tank3):\n",
    "    suma = tank1 + tank2 + tank3\n",
    "    prom = suma / 3\n",
    "    return f'''\n",
    "    Reporte de combustible\n",
    "    Total : {suma}\n",
    "    Promedio : {prom}\n",
    "    Tanque 1 : {tank1}\n",
    "    Tanque 2 : {tank2}\n",
    "    Tanque 3 : {tank3}\n",
    "    '''"
   ]
  },
  {
   "cell_type": "markdown",
   "metadata": {},
   "source": [
    "Ahora que hemos definido la función de informes, vamos a comprobarlo. Para esta misión, los tanques no están llenos:"
   ]
  },
  {
   "cell_type": "code",
   "execution_count": 8,
   "metadata": {},
   "outputs": [
    {
     "name": "stdout",
     "output_type": "stream",
     "text": [
      "\n",
      "    Reporte de combustible\n",
      "    Total : 2\n",
      "    Promedio : 0.6666666666666666\n",
      "    Tanque 1 : 1\n",
      "    Tanque 2 : 0\n",
      "    Tanque 3 : 1\n",
      "    \n"
     ]
    }
   ],
   "source": [
    "# Llamamos a la función que genera el reporte print(funcion(tanque1, tanque2, tanque3))\n",
    "print(readtnaks(1,0,1))"
   ]
  },
  {
   "cell_type": "markdown",
   "metadata": {},
   "source": [
    "En lugar de simplemente crear el informe, la función también está calculando el promedio. Mejora la legibilidad extrayendo el cálculo promedio de la función en una nueva función para que el promedio se pueda hacer de forma independiente:"
   ]
  },
  {
   "cell_type": "code",
   "execution_count": 17,
   "metadata": {},
   "outputs": [],
   "source": [
    "# Función promedio \n",
    "def promedio(*datos):\n",
    "    total = sum(datos)\n",
    "    cantidad = len(datos)\n",
    "    return total / cantidad"
   ]
  },
  {
   "cell_type": "code",
   "execution_count": 18,
   "metadata": {},
   "outputs": [
    {
     "name": "stdout",
     "output_type": "stream",
     "text": [
      "0.6666666666666666\n"
     ]
    }
   ],
   "source": [
    "print(promedio(1,0,1))"
   ]
  },
  {
   "cell_type": "markdown",
   "metadata": {},
   "source": [
    "Ahora actualiza la función de informes para llamando a la nueva función del promedio:"
   ]
  },
  {
   "cell_type": "code",
   "execution_count": 16,
   "metadata": {},
   "outputs": [],
   "source": [
    "# Actualiza la función\n",
    "def readtnaks(tank1, tank2, tank3):\n",
    "    \n",
    "    suma = tank1 + tank2 + tank3\n",
    "    total = promedio(tank1,tank2, tank3)\n",
    "    \n",
    "    return f'''\n",
    "    Reporte de combustible\n",
    "    Total : {suma}\n",
    "    Promedio : {total}\n",
    "    Tanque 1 : {tank1}\n",
    "    Tanque 2 : {tank2}\n",
    "    Tanque 3 : {tank3}\n",
    "    '''"
   ]
  },
  {
   "cell_type": "code",
   "execution_count": 13,
   "metadata": {},
   "outputs": [
    {
     "name": "stdout",
     "output_type": "stream",
     "text": [
      "\n",
      "    Reporte de combustible\n",
      "    Total : 2\n",
      "    Promedio : 0.6666666666666666\n",
      "    Tanque 1 : 1\n",
      "    Tanque 2 : 0\n",
      "    Tanque 3 : 1\n",
      "    \n"
     ]
    }
   ],
   "source": [
    "print(readtnaks(1,0,1))"
   ]
  },
  {
   "cell_type": "markdown",
   "metadata": {},
   "source": [
    "# Ejercicio 2: Trabajo con argumentos de palabra clave\n",
    "\n",
    "## Ejercicio : Trabajar con argumentos de palabras clave en funciones\n",
    "\n",
    "En este ejercicio, construirás un informe de cohete que requiere varias piezas de información, como el tiempo hasta el destino, el combustible a la izquierda y el nombre del destino. Comienza por crear una función que creará un informe preciso de la misión:"
   ]
  },
  {
   "cell_type": "code",
   "execution_count": 46,
   "metadata": {},
   "outputs": [],
   "source": [
    "# Función con un informe preciso de la misión. Considera hora de prelanzamiento, tiempo de vuelo, destino, tanque externo y tanque interno\n",
    "def informe(pre_launch, flight_time, destination, ext_tank, main_tank):\n",
    "    return f'''\n",
    "    Reporte Bien chido de la misión\n",
    "    Destino : {destination}\n",
    "    Hora de prelanzamiento :{pre_launch}\n",
    "    Tiempo de Vuelo :{flight_time}\n",
    "    Tanque Externo :{ext_tank}\n",
    "    Tanque interno :{main_tank}\n",
    "    '''"
   ]
  },
  {
   "cell_type": "code",
   "execution_count": 47,
   "metadata": {},
   "outputs": [
    {
     "name": "stdout",
     "output_type": "stream",
     "text": [
      "\n",
      "    Reporte Bien chido de la misión\n",
      "    Destino : Moon\n",
      "    Hora de prelanzamiento :14\n",
      "    Tiempo de Vuelo :51\n",
      "    Tanque Externo :200000\n",
      "    Tanque interno :300000\n",
      "    \n"
     ]
    }
   ],
   "source": [
    "print(informe(14, 51, \"Moon\", 3000, 2000))"
   ]
  },
  {
   "cell_type": "markdown",
   "metadata": {},
   "source": [
    "La función es problemática porque no se puede adaptar para minutos adicionales o tanques adicionales de combustible. Hazlo más flexible permitiendo cualquier número de pasos basados en el tiempo y cualquier número de tanques. En lugar de usar `*args` y `**kwargs`, aprovecha el hecho de que puedes usar cualquier nombre que desees. Asegurate que la función sea más legible mediante el uso de nombres de variables que están asociados con las entradas, como `*minutes` y `**fuel_reservoirs`:"
   ]
  },
  {
   "cell_type": "code",
   "execution_count": 40,
   "metadata": {},
   "outputs": [],
   "source": [
    "# Escribe tu nueva función de reporte considerando lo anterior\n",
    "def informepro(destination, *minutes , **fuel_reservoirs):\n",
    "    \n",
    "    return f'''\n",
    "    Reporte Bien chido super pro de la misión\n",
    "    Destino : {destination}\n",
    "    Tiempo de viaje : {sum(minutes )}\n",
    "    Cantidad total de combustible : {sum(fuel_reservoirs.values())}\n",
    "    '''"
   ]
  },
  {
   "cell_type": "code",
   "execution_count": 41,
   "metadata": {},
   "outputs": [
    {
     "name": "stdout",
     "output_type": "stream",
     "text": [
      "\n",
      "    Reporte Bien chido super pro de la misión\n",
      "    Destino : Luna\n",
      "    Tiempo de viaje : 83\n",
      "    Cantidad total de combustible : 5000\n",
      "    \n"
     ]
    }
   ],
   "source": [
    "print(informepro(\"Luna\", 8, 15, 60, principa=3000, reserva=2000))"
   ]
  },
  {
   "cell_type": "markdown",
   "metadata": {},
   "source": [
    "Debido a que el combustible que queda en los tanques es específico de cada tanque, actualiza la función para usar el nombre de cada tanque en el informe:"
   ]
  },
  {
   "cell_type": "code",
   "execution_count": 43,
   "metadata": {},
   "outputs": [],
   "source": [
    "# Escribe tu nueva función\n",
    "\n",
    "def informepro(destination, *minutes , **fuel_reservoirs):\n",
    "    reporte = f'''\n",
    "    Reporte Bien chido super pro de la misión\n",
    "    Destino : {destination}\n",
    "    Tiempo de viaje : {sum(minutes )}\n",
    "    Cantidad de combustible : {sum(fuel_reservoirs.values())}\n",
    "    '''\n",
    "    for tank_name, litros in fuel_reservoirs.items():\n",
    "        reporte += f\"tanque {tank_name} con {litros} litros restantes \\n    \"\n",
    "\n",
    "    return reporte"
   ]
  },
  {
   "cell_type": "code",
   "execution_count": 44,
   "metadata": {},
   "outputs": [
    {
     "name": "stdout",
     "output_type": "stream",
     "text": [
      "\n",
      "    Reporte Bien chido super pro de la misión\n",
      "    Destino : Luna\n",
      "    Tiempo de viaje : 83\n",
      "    Cantidad de combustible : 5000\n",
      "    tanque principal con 3000 litros restantes \n",
      "    tanque reserva con 2000 litros restantes \n",
      "    \n"
     ]
    }
   ],
   "source": [
    "print(informepro(\"Luna\", 8, 15, 60, principal=3000, reserva=2000))"
   ]
  }
 ],
 "metadata": {
  "interpreter": {
   "hash": "b6c532398b148774d6e7b21b8a94e9f42d444d7b481e4c985b29c353ef2daa48"
  },
  "kernelspec": {
   "display_name": "Python 3.10.2 64-bit",
   "language": "python",
   "name": "python3"
  },
  "language_info": {
   "codemirror_mode": {
    "name": "ipython",
    "version": 3
   },
   "file_extension": ".py",
   "mimetype": "text/x-python",
   "name": "python",
   "nbconvert_exporter": "python",
   "pygments_lexer": "ipython3",
   "version": "3.10.2"
  },
  "orig_nbformat": 4
 },
 "nbformat": 4,
 "nbformat_minor": 2
}
